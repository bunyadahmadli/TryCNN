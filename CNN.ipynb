{
  "nbformat": 4,
  "nbformat_minor": 0,
  "metadata": {
    "colab": {
      "name": "CNN.ipynb",
      "provenance": [],
      "authorship_tag": "ABX9TyOygukbSxuIUYVUa537azAv",
      "include_colab_link": true
    },
    "kernelspec": {
      "name": "python3",
      "display_name": "Python 3"
    }
  },
  "cells": [
    {
      "cell_type": "markdown",
      "metadata": {
        "id": "view-in-github",
        "colab_type": "text"
      },
      "source": [
        "<a href=\"https://colab.research.google.com/github/bunyadahmadli/TryCNN/blob/main/CNN.ipynb\" target=\"_parent\"><img src=\"https://colab.research.google.com/assets/colab-badge.svg\" alt=\"Open In Colab\"/></a>"
      ]
    },
    {
      "cell_type": "code",
      "metadata": {
        "id": "L-t422-qEbxk"
      },
      "source": [
        "!pip install pandas\r\n",
        "!pip install numpy as np\r\n",
        "!pip install keras\r\n",
        "!pip install cv2"
      ],
      "execution_count": null,
      "outputs": []
    },
    {
      "cell_type": "code",
      "metadata": {
        "id": "knjOtWLEEiXc"
      },
      "source": [
        "inputdata = np.array([])\r\n",
        "\r\n",
        "def i in range (20):\r\n",
        "  i=i+1\r\n",
        "  filepath = 'kalemler/%s.jpg'%i\r\n",
        "  inputimg = cv2.imread('%s'%filepath)\r\n",
        "  cv2.resize(inputimg,)"
      ],
      "execution_count": null,
      "outputs": []
    }
  ]
}