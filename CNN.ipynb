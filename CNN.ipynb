{
  "nbformat": 4,
  "nbformat_minor": 0,
  "metadata": {
    "colab": {
      "name": "CNN.ipynb",
      "provenance": [],
      "collapsed_sections": [],
      "authorship_tag": "ABX9TyOyuOTx5Ku+LylzECkV5R7E",
      "include_colab_link": true
    },
    "kernelspec": {
      "name": "python3",
      "display_name": "Python 3"
    },
    "accelerator": "GPU"
  },
  "cells": [
    {
      "cell_type": "markdown",
      "metadata": {
        "id": "view-in-github",
        "colab_type": "text"
      },
      "source": [
        "<a href=\"https://colab.research.google.com/github/bunyadahmadli/TryCNN/blob/main/CNN.ipynb\" target=\"_parent\"><img src=\"https://colab.research.google.com/assets/colab-badge.svg\" alt=\"Open In Colab\"/></a>"
      ]
    },
    {
      "cell_type": "code",
      "metadata": {
        "id": "L-t422-qEbxk",
        "colab": {
          "base_uri": "https://localhost:8080/"
        },
        "outputId": "c52a29fd-ebf9-47f7-e990-74e3ab6f9263"
      },
      "source": [
        "!pip install pandas\r\n",
        "!pip install numpy as np\r\n",
        "!pip install keras\r\n",
        "!pip install opencv-python\r\n"
      ],
      "execution_count": 3,
      "outputs": [
        {
          "output_type": "stream",
          "text": [
            "Requirement already satisfied: pandas in /usr/local/lib/python3.6/dist-packages (1.1.5)\n",
            "Requirement already satisfied: pytz>=2017.2 in /usr/local/lib/python3.6/dist-packages (from pandas) (2018.9)\n",
            "Requirement already satisfied: numpy>=1.15.4 in /usr/local/lib/python3.6/dist-packages (from pandas) (1.19.5)\n",
            "Requirement already satisfied: python-dateutil>=2.7.3 in /usr/local/lib/python3.6/dist-packages (from pandas) (2.8.1)\n",
            "Requirement already satisfied: six>=1.5 in /usr/local/lib/python3.6/dist-packages (from python-dateutil>=2.7.3->pandas) (1.15.0)\n",
            "Requirement already satisfied: numpy in /usr/local/lib/python3.6/dist-packages (1.19.5)\n",
            "Requirement already satisfied: as in /usr/local/lib/python3.6/dist-packages (0.1)\n",
            "Requirement already satisfied: np in /usr/local/lib/python3.6/dist-packages (1.0.2)\n",
            "Requirement already satisfied: keras in /usr/local/lib/python3.6/dist-packages (2.4.3)\n",
            "Requirement already satisfied: numpy>=1.9.1 in /usr/local/lib/python3.6/dist-packages (from keras) (1.19.5)\n",
            "Requirement already satisfied: scipy>=0.14 in /usr/local/lib/python3.6/dist-packages (from keras) (1.4.1)\n",
            "Requirement already satisfied: h5py in /usr/local/lib/python3.6/dist-packages (from keras) (2.10.0)\n",
            "Requirement already satisfied: pyyaml in /usr/local/lib/python3.6/dist-packages (from keras) (3.13)\n",
            "Requirement already satisfied: six in /usr/local/lib/python3.6/dist-packages (from h5py->keras) (1.15.0)\n",
            "Requirement already satisfied: opencv-python in /usr/local/lib/python3.6/dist-packages (4.1.2.30)\n",
            "Requirement already satisfied: numpy>=1.11.3 in /usr/local/lib/python3.6/dist-packages (from opencv-python) (1.19.5)\n"
          ],
          "name": "stdout"
        }
      ]
    },
    {
      "cell_type": "code",
      "metadata": {
        "id": "bs6E60zuJqeZ"
      },
      "source": [
        "import cv2\r\n",
        "import numpy as np\r\n",
        "from keras.models import Sequential\r\n",
        "from keras.layers import  Dense,Activation,Conv2D,Dropout,Flatten\r\n",
        "from keras.layers.convolutional import Convolution2D,MaxPooling2D\r\n",
        "from keras.optimizers import *\r\n",
        "from keras import optimizers\r\n",
        "from keras.layers.normalization import BatchNormalization\r\n"
      ],
      "execution_count": 4,
      "outputs": []
    },
    {
      "cell_type": "code",
      "metadata": {
        "colab": {
          "base_uri": "https://localhost:8080/"
        },
        "id": "NKHdytfGKZon",
        "outputId": "d5872d78-8327-4913-f373-7d55b040e775"
      },
      "source": [
        "import os\r\n",
        "os.chdir('drive/MyDrive/PythonDeep/kalemler')\r\n",
        "!ls"
      ],
      "execution_count": 10,
      "outputs": [
        {
          "output_type": "stream",
          "text": [
            "10.jpg\t13.jpg\t16.jpg\t19.jpg\t2.jpg  5.jpg  8.jpg\n",
            "11.jpg\t14.jpg\t17.jpg\t1.jpg\t3.jpg  6.jpg  9.jpg\n",
            "12.jpg\t15.jpg\t18.jpg\t20.jpg\t4.jpg  7.jpg  inputdata.npy\n"
          ],
          "name": "stdout"
        }
      ]
    },
    {
      "cell_type": "code",
      "metadata": {
        "id": "cbNlR-uCNuFc"
      },
      "source": [
        ""
      ],
      "execution_count": null,
      "outputs": []
    },
    {
      "cell_type": "code",
      "metadata": {
        "colab": {
          "base_uri": "https://localhost:8080/"
        },
        "id": "zycSfvmFKwGB",
        "outputId": "683fa5ed-f79c-4dad-dcd1-d48c0c7a74d9"
      },
      "source": [
        "from google.colab import drive\r\n",
        "drive.mount('/content/drive')"
      ],
      "execution_count": 7,
      "outputs": [
        {
          "output_type": "stream",
          "text": [
            "Mounted at /content/drive\n"
          ],
          "name": "stdout"
        }
      ]
    },
    {
      "cell_type": "code",
      "metadata": {
        "id": "knjOtWLEEiXc",
        "colab": {
          "base_uri": "https://localhost:8080/"
        },
        "outputId": "9d188a0e-4e46-42b1-f0a2-f4cb0d289030"
      },
      "source": [
        "#read data\r\n",
        "inputdata = np.array([])\r\n",
        "\r\n",
        "for i in range (20):\r\n",
        "  inputimg = 0\r\n",
        "  i=i+1\r\n",
        "  filepath = '%s.jpg'%i\r\n",
        "  inputimg = cv2.imread('%s'%filepath)\r\n",
        "  \r\n",
        "  try:\r\n",
        "    resizeimg = cv2.resize(inputimg,(224,224))\r\n",
        "    inputdata = np.append(inputdata,resizeimg)\r\n",
        "  except:\r\n",
        "    print(inputimg)\r\n",
        "    continue\r\n",
        "inputdata = np.reshape(inputdata,(-1,224,224,3))\r\n",
        "np.save(\"inputdata\",inputdata)\r\n",
        "print(inputdata.shape)"
      ],
      "execution_count": 36,
      "outputs": [
        {
          "output_type": "stream",
          "text": [
            "(20, 224, 224, 3)\n"
          ],
          "name": "stdout"
        }
      ]
    },
    {
      "cell_type": "code",
      "metadata": {
        "id": "4jUiL2jKSadc"
      },
      "source": [
        ""
      ],
      "execution_count": null,
      "outputs": []
    },
    {
      "cell_type": "code",
      "metadata": {
        "colab": {
          "base_uri": "https://localhost:8080/"
        },
        "id": "eiK-WoM9OOdQ",
        "outputId": "863b34d9-46c8-4913-eb33-2b2187cafce7"
      },
      "source": [
        "inputdata = np.load('inputdata.npy')\r\n",
        "\r\n",
        "outputdata = np.array([[1,0],[1,0],[1,0],[1,0],[1,0],[1,0],[1,0],[1,0],[1,0],[1,0],[0,1],[0,1],[0,1],[0,1],[0,1],[0,1],[0,1],[0,1],[0,1],[0,1]])\r\n",
        "print(outputdata.shape)\r\n",
        "splitinput  = inputdata[1:4]\r\n",
        "print(splitinput.shape)\r\n",
        "splitinput = np.append(splitinput,inputdata[15:18],axis=0)\r\n",
        "print(inputdata.shape)\r\n",
        "print(outputdata.shape)\r\n",
        "print(splitinput.shape)\r\n",
        "\r\n",
        "splitoutput = np.array([[1,0],[1,0],[1,0],[0,1],[0,1],[0,1]])\r\n",
        "print(splitoutput.shape)"
      ],
      "execution_count": 45,
      "outputs": [
        {
          "output_type": "stream",
          "text": [
            "(20, 2)\n",
            "(3, 224, 224, 3)\n",
            "(20, 224, 224, 3)\n",
            "(20, 2)\n",
            "(6, 224, 224, 3)\n",
            "(6, 2)\n"
          ],
          "name": "stdout"
        }
      ]
    },
    {
      "cell_type": "code",
      "metadata": {
        "id": "lBRvfIO7Jp4b",
        "colab": {
          "base_uri": "https://localhost:8080/"
        },
        "outputId": "ff4a37f7-a0be-4b1e-b462-f92591f93b47"
      },
      "source": [
        "model = Sequential()\r\n",
        "\r\n",
        "model.add(Conv2D(50,11,strides=(4,4),input_shape=(224,224,3)))\r\n",
        "model.add(MaxPooling2D(5,5))\r\n",
        "model.add(Conv2D(50,5))\r\n",
        "model.add(Conv2D(50,3))\r\n",
        "model.add(Conv2D(50,3))\r\n",
        "model.add(Conv2D(50,2))\r\n",
        "\r\n",
        "model.add(Flatten())\r\n",
        "\r\n",
        "model.add(Dense(200,activation='relu'))\r\n",
        "model.add(Dropout(0.3))\r\n",
        "\r\n",
        "model.add(Dense(200,activation='relu'))\r\n",
        "model.add(Dense(2))\r\n",
        "\r\n",
        "model.add(Activation('softmax'))\r\n",
        "\r\n",
        "model.compile(loss = 'categorical_crossentropy',optimizer=optimizers.RMSprop(lr=0.00001),metrics= ['accuracy'])\r\n",
        "model.summary()\r\n",
        "\r\n",
        "print(type(inputdata))\r\n",
        "print(type(outputdata))\r\n",
        "print(type(splitinput))\r\n",
        "print(type(splitoutput))\r\n",
        "\r\n",
        "model.fit(inputdata,outputdata,batch_size=2,epochs=1,validation_data=(splitinput,splitoutput))\r\n",
        "\r\n"
      ],
      "execution_count": 46,
      "outputs": [
        {
          "output_type": "stream",
          "text": [
            "Model: \"sequential_8\"\n",
            "_________________________________________________________________\n",
            "Layer (type)                 Output Shape              Param #   \n",
            "=================================================================\n",
            "conv2d_40 (Conv2D)           (None, 54, 54, 50)        18200     \n",
            "_________________________________________________________________\n",
            "max_pooling2d_8 (MaxPooling2 (None, 10, 10, 50)        0         \n",
            "_________________________________________________________________\n",
            "conv2d_41 (Conv2D)           (None, 6, 6, 50)          62550     \n",
            "_________________________________________________________________\n",
            "conv2d_42 (Conv2D)           (None, 4, 4, 50)          22550     \n",
            "_________________________________________________________________\n",
            "conv2d_43 (Conv2D)           (None, 2, 2, 50)          22550     \n",
            "_________________________________________________________________\n",
            "conv2d_44 (Conv2D)           (None, 1, 1, 50)          10050     \n",
            "_________________________________________________________________\n",
            "flatten_8 (Flatten)          (None, 50)                0         \n",
            "_________________________________________________________________\n",
            "dense_24 (Dense)             (None, 200)               10200     \n",
            "_________________________________________________________________\n",
            "dropout_8 (Dropout)          (None, 200)               0         \n",
            "_________________________________________________________________\n",
            "dense_25 (Dense)             (None, 200)               40200     \n",
            "_________________________________________________________________\n",
            "dense_26 (Dense)             (None, 2)                 402       \n",
            "_________________________________________________________________\n",
            "activation_8 (Activation)    (None, 2)                 0         \n",
            "=================================================================\n",
            "Total params: 186,702\n",
            "Trainable params: 186,702\n",
            "Non-trainable params: 0\n",
            "_________________________________________________________________\n",
            "<class 'numpy.ndarray'>\n",
            "<class 'numpy.ndarray'>\n",
            "<class 'numpy.ndarray'>\n",
            "<class 'numpy.ndarray'>\n",
            "10/10 [==============================] - 1s 27ms/step - loss: 16.5172 - accuracy: 0.2433 - val_loss: 1.5721 - val_accuracy: 0.6667\n"
          ],
          "name": "stdout"
        },
        {
          "output_type": "execute_result",
          "data": {
            "text/plain": [
              "<tensorflow.python.keras.callbacks.History at 0x7fb4137d8cf8>"
            ]
          },
          "metadata": {
            "tags": []
          },
          "execution_count": 46
        }
      ]
    },
    {
      "cell_type": "code",
      "metadata": {
        "id": "d5GOZqmOhmce"
      },
      "source": [
        ""
      ],
      "execution_count": null,
      "outputs": []
    }
  ]
}